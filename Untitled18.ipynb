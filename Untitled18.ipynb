{
 "cells": [
  {
   "cell_type": "code",
   "execution_count": null,
   "id": "6401925c",
   "metadata": {},
   "outputs": [],
   "source": [
    "\"\"\"\n",
    "@author: Osama Shakeel\n",
    "Image Conversion Project Colored Image to GrayScale Image\n",
    "\n",
    "\"\"\"\n",
    "import cv2\n",
    "\n",
    "path = input(\"Enter your image Path: \\n\") # i.e: D:\\\\music\\\\ava.jpg  \n",
    "print(\"The path you entered is == \", path)\n",
    "\n",
    "#Now Read Image\n",
    "\n",
    "img = cv2.imread(path,0)  #Convert image to Gray Scale Image\n",
    "img = cv2.resize(img, (760,540))\n",
    "\n",
    "cv2.imshow(\"Converted image \", img)\n",
    "\n",
    "k = cv2.waitKey(0)\n",
    "if k == ord(\"s\"):\n",
    "    cv2.imwrite(\"D://music//avagray.jpg\", img)\n",
    "else:\n",
    "    cv2.destroyAllWindows()\n",
    "\n"
   ]
  },
  {
   "cell_type": "code",
   "execution_count": null,
   "id": "d839eed0",
   "metadata": {},
   "outputs": [],
   "source": [
    "print(\"dgd\")"
   ]
  },
  {
   "cell_type": "code",
   "execution_count": null,
   "id": "47235540",
   "metadata": {},
   "outputs": [],
   "source": []
  }
 ],
 "metadata": {
  "kernelspec": {
   "display_name": "Python 3",
   "language": "python",
   "name": "python3"
  },
  "language_info": {
   "codemirror_mode": {
    "name": "ipython",
    "version": 3
   },
   "file_extension": ".py",
   "mimetype": "text/x-python",
   "name": "python",
   "nbconvert_exporter": "python",
   "pygments_lexer": "ipython3",
   "version": "3.8.8"
  }
 },
 "nbformat": 4,
 "nbformat_minor": 5
}
