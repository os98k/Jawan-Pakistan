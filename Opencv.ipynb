{
 "cells": [
  {
   "cell_type": "code",
   "execution_count": 1,
   "id": "10772d87",
   "metadata": {},
   "outputs": [
    {
     "name": "stdout",
     "output_type": "stream",
     "text": [
      "Enter your image Path: \n",
      "D://music//ava.jpg\n",
      "The path you entered is ==  D://music//ava.jpg\n"
     ]
    }
   ],
   "source": [
    "\"\"\"\n",
    "@author: Osama Shakeel\n",
    "Image Conversion Project Colored Image to GrayScale Image\n",
    "\n",
    "\"\"\"\n",
    "import cv2\n",
    "\n",
    "path = input(\"Enter your image Path: \\n\") # i.e: D:\\\\music\\\\ava.jpg  \n",
    "print(\"The path you entered is == \", path)\n",
    "\n",
    "#Now Read Image\n",
    "\n",
    "img = cv2.imread(path,0)  #Convert image to Gray Scale Image\n",
    "img = cv2.resize(img, (760,540))\n",
    "\n",
    "cv2.imshow(\"Converted image \", img)\n",
    "\n",
    "k = cv2.waitKey(0)\n",
    "if k == ord(\"s\"):\n",
    "    cv2.imwrite(\"D://music//avagray.jpg\", img)\n",
    "else:\n",
    "    cv2.destroyAllWindows()\n",
    "\n"
   ]
  },
  {
   "cell_type": "code",
   "execution_count": 2,
   "id": "87565ee3",
   "metadata": {},
   "outputs": [
    {
     "name": "stdout",
     "output_type": "stream",
     "text": [
      "Enter your image Path: \n",
      "D://music//ava.jpg\n",
      "The path you entered is ==  D://music//ava.jpg\n"
     ]
    },
    {
     "data": {
      "text/plain": [
       "'\\n#If you want to save the image than\\nk = cv2.waitKey(0)\\nif k == ord(\"s\"):\\n    cv2.imwrite(\"D://music//avagrayflip.jpg\", img)\\nelse:\\n    cv2.destroyAllWindows()\\n\\n'"
      ]
     },
     "execution_count": 2,
     "metadata": {},
     "output_type": "execute_result"
    }
   ],
   "source": [
    "\n",
    "\"\"\"\n",
    "@author: Osama Shakeel\n",
    "Flip image using Opencv\n",
    "\n",
    "\"\"\"\n",
    "\n",
    "import cv2\n",
    "\n",
    "path = input(\"Enter your image Path: \\n\") # i.e: D:\\\\music\\\\ava.jpg  \n",
    "print(\"The path you entered is == \", path)\n",
    "\n",
    "#Now Read Image\n",
    "img = cv2.imread(path,0)  #Convert image to Gray Scale Image\n",
    "img = cv2.resize(img, (760,540))\n",
    "img = cv2.flip(img, 1) #it accept three parameter 1,0,-1\n",
    "\n",
    "cv2.imshow(\"Flip image \", img)\n",
    "\n",
    "\n",
    "cv2.waitKey(0)\n",
    "cv2.destroyAllWindows()\n",
    "\n",
    "\"\"\"\n",
    "#If you want to save the image than\n",
    "k = cv2.waitKey(0)\n",
    "if k == ord(\"s\"):\n",
    "    cv2.imwrite(\"D://music//avagrayflip.jpg\", img)\n",
    "else:\n",
    "    cv2.destroyAllWindows()\n",
    "\n",
    "\"\"\""
   ]
  },
  {
   "cell_type": "code",
   "execution_count": null,
   "id": "da7d812c",
   "metadata": {},
   "outputs": [],
   "source": []
  }
 ],
 "metadata": {
  "kernelspec": {
   "display_name": "Python 3",
   "language": "python",
   "name": "python3"
  },
  "language_info": {
   "codemirror_mode": {
    "name": "ipython",
    "version": 3
   },
   "file_extension": ".py",
   "mimetype": "text/x-python",
   "name": "python",
   "nbconvert_exporter": "python",
   "pygments_lexer": "ipython3",
   "version": "3.8.8"
  }
 },
 "nbformat": 4,
 "nbformat_minor": 5
}
